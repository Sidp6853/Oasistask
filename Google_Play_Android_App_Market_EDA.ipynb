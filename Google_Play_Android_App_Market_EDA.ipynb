{
  "metadata": {
    "kernelspec": {
      "language": "python",
      "display_name": "Python 3",
      "name": "python3"
    },
    "language_info": {
      "name": "python",
      "version": "3.10.13",
      "mimetype": "text/x-python",
      "codemirror_mode": {
        "name": "ipython",
        "version": 3
      },
      "pygments_lexer": "ipython3",
      "nbconvert_exporter": "python",
      "file_extension": ".py"
    },
    "kaggle": {
      "accelerator": "none",
      "dataSources": [
        {
          "sourceId": 1406003,
          "sourceType": "datasetVersion",
          "datasetId": 822043
        }
      ],
      "dockerImageVersionId": 30664,
      "isInternetEnabled": true,
      "language": "python",
      "sourceType": "notebook",
      "isGpuEnabled": false
    },
    "colab": {
      "provenance": []
    }
  },
  "nbformat_minor": 0,
  "nbformat": 4,
  "cells": [
    {
      "source": [
        "\n",
        "\n",
        "\n",
        "import os\n",
        "import sys\n",
        "from tempfile import NamedTemporaryFile\n",
        "from urllib.request import urlopen\n",
        "from urllib.parse import unquote, urlparse\n",
        "from urllib.error import HTTPError\n",
        "from zipfile import ZipFile\n",
        "import tarfile\n",
        "import shutil\n",
        "\n",
        "CHUNK_SIZE = 40960\n",
        "DATA_SOURCE_MAPPING = 'android-app-market-on-google-play:https%3A%2F%2Fstorage.googleapis.com%2Fkaggle-data-sets%2F822043%2F1406003%2Fbundle%2Farchive.zip%3FX-Goog-Algorithm%3DGOOG4-RSA-SHA256%26X-Goog-Credential%3Dgcp-kaggle-com%2540kaggle-161607.iam.gserviceaccount.com%252F20240605%252Fauto%252Fstorage%252Fgoog4_request%26X-Goog-Date%3D20240605T135739Z%26X-Goog-Expires%3D259200%26X-Goog-SignedHeaders%3Dhost%26X-Goog-Signature%3D0e4ffe3f4c63c3d92f3e8c47cb407027e2c8bb69d227cf51f2503939ff809dd6ec5eae38592b666fe3e2593025243b9fceea3f3c1a5f8291c845c53972480896d93ecaa0c2534ab57486042c41a9061a0e586f9770026bd3d2ab61f4849ae69cc65de9a8ac91a5b0446b4f5dbb7c46b2b90b280972017ee6ed880ab7952101042e8a9e48e36b72ae045774e70fdccaa6becd1726302a1cbda2258fcb7add766f26f7def5a1b764d2cf0d53031652e0147bd191bc070749e7e40a5d4124e2ed7b0558c8302a8f289a790860820abf89b4291567fdfbc30e9ed2626a5c131242f8837edf7ed330e43b3f7033e6f4bff574530c28e8e455a09ba4c1b77a49bf6c49'\n",
        "\n",
        "KAGGLE_INPUT_PATH='/kaggle/input'\n",
        "KAGGLE_WORKING_PATH='/kaggle/working'\n",
        "KAGGLE_SYMLINK='kaggle'\n",
        "\n",
        "!umount /kaggle/input/ 2> /dev/null\n",
        "shutil.rmtree('/kaggle/input', ignore_errors=True)\n",
        "os.makedirs(KAGGLE_INPUT_PATH, 0o777, exist_ok=True)\n",
        "os.makedirs(KAGGLE_WORKING_PATH, 0o777, exist_ok=True)\n",
        "\n",
        "try:\n",
        "  os.symlink(KAGGLE_INPUT_PATH, os.path.join(\"..\", 'input'), target_is_directory=True)\n",
        "except FileExistsError:\n",
        "  pass\n",
        "try:\n",
        "  os.symlink(KAGGLE_WORKING_PATH, os.path.join(\"..\", 'working'), target_is_directory=True)\n",
        "except FileExistsError:\n",
        "  pass\n",
        "\n",
        "for data_source_mapping in DATA_SOURCE_MAPPING.split(','):\n",
        "    directory, download_url_encoded = data_source_mapping.split(':')\n",
        "    download_url = unquote(download_url_encoded)\n",
        "    filename = urlparse(download_url).path\n",
        "    destination_path = os.path.join(KAGGLE_INPUT_PATH, directory)\n",
        "    try:\n",
        "        with urlopen(download_url) as fileres, NamedTemporaryFile() as tfile:\n",
        "            total_length = fileres.headers['content-length']\n",
        "            print(f'Downloading {directory}, {total_length} bytes compressed')\n",
        "            dl = 0\n",
        "            data = fileres.read(CHUNK_SIZE)\n",
        "            while len(data) > 0:\n",
        "                dl += len(data)\n",
        "                tfile.write(data)\n",
        "                done = int(50 * dl / int(total_length))\n",
        "                sys.stdout.write(f\"\\r[{'=' * done}{' ' * (50-done)}] {dl} bytes downloaded\")\n",
        "                sys.stdout.flush()\n",
        "                data = fileres.read(CHUNK_SIZE)\n",
        "            if filename.endswith('.zip'):\n",
        "              with ZipFile(tfile) as zfile:\n",
        "                zfile.extractall(destination_path)\n",
        "            else:\n",
        "              with tarfile.open(tfile.name) as tarfile:\n",
        "                tarfile.extractall(destination_path)\n",
        "            print(f'\\nDownloaded and uncompressed: {directory}')\n",
        "    except HTTPError as e:\n",
        "        print(f'Failed to load (likely expired) {download_url} to path {destination_path}')\n",
        "        continue\n",
        "    except OSError as e:\n",
        "        print(f'Failed to load {download_url} to path {destination_path}')\n",
        "        continue\n",
        "\n",
        "print('Data source import complete.')\n"
      ],
      "metadata": {
        "id": "SlvkZHhJsPv_"
      },
      "cell_type": "code",
      "outputs": [],
      "execution_count": null
    },
    {
      "cell_type": "code",
      "source": [
        "import numpy as np # linear algebra\n",
        "import pandas as pd # data processing, CSV file I/O (e.g. pd.read_csv)\n",
        "import seaborn as sns\n",
        "sns.set_style(\"darkgrid\")\n",
        "import matplotlib.pyplot as plt\n",
        "import plotly.express as px\n",
        "import plotly.express as px\n",
        "import warnings\n",
        "warnings.filterwarnings('ignore')"
      ],
      "metadata": {
        "_uuid": "8f2839f25d086af736a60e9eeb907d3b93b6e0e5",
        "_cell_guid": "b1076dfc-b9ad-4769-8c92-a6c4dae69d19",
        "execution": {
          "iopub.status.busy": "2024-03-05T17:24:40.270096Z"
        },
        "trusted": true,
        "id": "oQB6ZgB-sPwA"
      },
      "execution_count": null,
      "outputs": []
    },
    {
      "cell_type": "code",
      "source": [
        "apps = pd.read_csv(\"/kaggle/input/android-app-market-on-google-play/datasets/apps.csv\")"
      ],
      "metadata": {
        "trusted": true,
        "id": "NJ3CdPuUsPwI"
      },
      "execution_count": null,
      "outputs": []
    },
    {
      "cell_type": "code",
      "source": [
        "apps.head()"
      ],
      "metadata": {
        "trusted": true,
        "id": "O80DDyVTsPwI"
      },
      "execution_count": null,
      "outputs": []
    },
    {
      "cell_type": "code",
      "source": [
        "apps.shape"
      ],
      "metadata": {
        "trusted": true,
        "id": "VgVspWoGsPwI"
      },
      "execution_count": null,
      "outputs": []
    },
    {
      "cell_type": "code",
      "source": [
        "apps.duplicated().any()"
      ],
      "metadata": {
        "trusted": true,
        "id": "PWzf8ZZmsPwI"
      },
      "execution_count": null,
      "outputs": []
    },
    {
      "cell_type": "code",
      "source": [
        "apps.isna().sum()"
      ],
      "metadata": {
        "trusted": true,
        "id": "tiudL4uMsPwI"
      },
      "execution_count": null,
      "outputs": []
    },
    {
      "cell_type": "code",
      "source": [
        "apps.info()"
      ],
      "metadata": {
        "trusted": true,
        "id": "yRJzOVLwsPwJ"
      },
      "execution_count": null,
      "outputs": []
    },
    {
      "cell_type": "markdown",
      "source": [
        "# **Data Preprocessing**"
      ],
      "metadata": {
        "id": "LUFjVoBosPwJ"
      }
    },
    {
      "cell_type": "code",
      "source": [
        "# List of characters to remove\n",
        "chars_to_remove = [',','$','+']\n",
        "# List of column names to clean\n",
        "cols_to_clean = ['Installs','Price']\n",
        "\n",
        "# Loop for each column\n",
        "for col in cols_to_clean:\n",
        "    # Replace each character with an empty string\n",
        "    for char in chars_to_remove:\n",
        "        apps[col] = apps[col].astype(str).str.replace(char,'')\n",
        "    # Convert col to numeric\n",
        "    apps[col] = pd.to_numeric(apps[col])"
      ],
      "metadata": {
        "trusted": true,
        "id": "_g6gpwqksPwJ"
      },
      "execution_count": null,
      "outputs": []
    },
    {
      "cell_type": "code",
      "source": [
        "# Convert Installs to float data type\n",
        "apps['Installs'] = apps['Installs'].astype('float')\n",
        "\n",
        "# Convert Price to float data type\n",
        "apps['Price'] = apps['Price'].astype('float')\n",
        "\n",
        "# Checking dtypes of the apps dataframe\n",
        "print(apps.dtypes)\n",
        "\n",
        "apps"
      ],
      "metadata": {
        "trusted": true,
        "id": "koO26ecJsPwJ"
      },
      "execution_count": null,
      "outputs": []
    },
    {
      "cell_type": "markdown",
      "source": [
        "# **Exploratory Data Analysis (EDA)**"
      ],
      "metadata": {
        "id": "joPAM2PfsPwJ"
      }
    },
    {
      "cell_type": "code",
      "source": [
        "import plotly\n",
        "plotly.offline.init_notebook_mode(connected=False) #to draw plot in offline mode also\n",
        "import plotly.graph_objs as go                     #to plot graph\n",
        "\n",
        "# Print the total number of unique categories\n",
        "num_categories = len(apps['Category'].unique())\n",
        "print('Number of categories = ', num_categories)\n",
        "\n",
        "# Count the number of apps in each 'Category' and sort them in descending order\n",
        "num_apps_in_category = apps['Category'].value_counts().sort_values(ascending = False)"
      ],
      "metadata": {
        "trusted": true,
        "id": "YUOVSoRAsPwJ"
      },
      "execution_count": null,
      "outputs": []
    },
    {
      "cell_type": "markdown",
      "source": [
        "# **Data Visualization**"
      ],
      "metadata": {
        "id": "EE1y176msPwJ"
      }
    },
    {
      "cell_type": "code",
      "source": [
        "data = [go.Bar(\n",
        "        x = num_apps_in_category.index, # index = category name\n",
        "        y = num_apps_in_category.values, # value = count\n",
        ")]\n",
        "\n",
        "plotly.offline.iplot(data) #similar to plt.show() in matplotlib."
      ],
      "metadata": {
        "trusted": true,
        "id": "0tsvTgqosPwJ"
      },
      "execution_count": null,
      "outputs": []
    },
    {
      "cell_type": "code",
      "source": [
        "# Average rating of apps\n",
        "avg_app_rating = apps['Rating'].mean()\n",
        "print('Average app rating = ',avg_app_rating)\n",
        "\n",
        "# Distribution of apps according to their ratings\n",
        "data = [go.Histogram(\n",
        "        x = apps['Rating']\n",
        ")]\n",
        "\n",
        "# Vertical dashed line to indicate the average app rating\n",
        "layout = {'shapes': [{\n",
        "              'type' :'line',\n",
        "              'x0': avg_app_rating,\n",
        "              'y0': 0,\n",
        "              'x1': avg_app_rating,\n",
        "              'y1': 1000,\n",
        "              'line': { 'dash': 'dashdot'}\n",
        "          }]\n",
        "          }\n",
        "\n",
        "plotly.offline.iplot({'data': data, 'layout': layout})"
      ],
      "metadata": {
        "trusted": true,
        "id": "-X7W21iEsPwJ"
      },
      "execution_count": null,
      "outputs": []
    },
    {
      "cell_type": "markdown",
      "source": [
        "# **Further Analysis**"
      ],
      "metadata": {
        "id": "G-Zml0pcsPwJ"
      }
    },
    {
      "cell_type": "code",
      "source": [
        "# Filter rows where both Rating and Size values are not null\n",
        "apps_with_size_and_rating_present = apps[(~apps['Rating'].isnull()) & (~apps['Size'].isnull())]\n",
        "\n",
        "dfa=apps_with_size_and_rating_present['Category'].value_counts().to_frame(name = 'a')\n",
        "print(dfa[dfa['a']>=250].reset_index())\n",
        "# Subset for categories with at least 250 apps\n",
        "large_categories = apps_with_size_and_rating_present.groupby('Category').filter(lambda x: len(x) >= 250).reset_index()\n",
        "\n",
        "# Plot size vs. rating\n",
        "plt1 = sns.jointplot(x = large_categories['Size'], y = large_categories['Rating'], kind = 'hex')\n",
        "\n",
        "# Subset apps whose 'Type' is 'Paid'\n",
        "paid_apps = apps_with_size_and_rating_present[apps_with_size_and_rating_present['Type'] == 'Paid']\n",
        "\n",
        "# Plot price vs. rating\n",
        "plt2 = sns.jointplot(x = paid_apps['Price'], y = paid_apps['Rating'])"
      ],
      "metadata": {
        "trusted": true,
        "id": "ORhnoWfRsPwJ"
      },
      "execution_count": null,
      "outputs": []
    },
    {
      "cell_type": "code",
      "source": [
        "import matplotlib.pyplot as plt\n",
        "fig, ax = plt.subplots()\n",
        "fig.set_size_inches(15, 8)\n",
        "\n",
        "# Select a few popular app categories\n",
        "popular_app_cats = apps[apps[\"Category\"].isin(['GAME', 'FAMILY', 'PHOTOGRAPHY',\n",
        "                                            'MEDICAL', 'TOOLS', 'FINANCE',\n",
        "                                            'LIFESTYLE','BUSINESS'])]\n",
        "\n",
        "# Examine the price trend by plotting Price vs Category\n",
        "ax = sns.stripplot(x ='Price', y = 'Category',data=popular_app_cats, jitter=True, linewidth=1)\n",
        "ax.set_title('App pricing trend across categories')\n",
        "\n",
        "# Apps whose Price is greater than 200\n",
        "apps_above_200 = popular_app_cats[['Category', 'App', 'Price']][popular_app_cats['Price'] > 200]\n",
        "apps_above_200"
      ],
      "metadata": {
        "trusted": true,
        "id": "_WEeaYLusPwK"
      },
      "execution_count": null,
      "outputs": []
    },
    {
      "cell_type": "code",
      "source": [
        "# Select apps priced below $100\n",
        "apps_under_100 = popular_app_cats[popular_app_cats['Price']<100]\n",
        "fig, ax = plt.subplots()\n",
        "fig.set_size_inches(15, 8)\n",
        "\n",
        "# Examine price vs category with the authentic apps\n",
        "ax = sns.stripplot(x='Price', y='Category', data=apps_under_100,jitter=True,linewidth=1)\n",
        "ax.set_title('App pricing trend across categories after filtering for junk apps')"
      ],
      "metadata": {
        "trusted": true,
        "id": "L86F05RwsPwK"
      },
      "execution_count": null,
      "outputs": []
    },
    {
      "cell_type": "code",
      "source": [
        "trace0 = go.Box(\n",
        "    # Data for paid apps\n",
        "    y=apps[apps['Type'] == 'Paid']['Installs'],\n",
        "    name = 'Paid'\n",
        ")\n",
        "\n",
        "trace1 = go.Box(\n",
        "    # Data for free apps\n",
        "    y=apps[apps['Type'] == 'Free']['Installs'],\n",
        "    name = 'Free'\n",
        ")\n",
        "\n",
        "layout = go.Layout(\n",
        "    title = \"Number of downloads of paid apps vs. free apps\",\n",
        "    yaxis = dict(\n",
        "         type = 'log'\n",
        "        )\n",
        ")\n",
        "\n",
        "# Add trace0 and trace1 to a list for plotting\n",
        "data = [trace0,trace1]\n",
        "plotly.offline.iplot({'data': data, 'layout': layout})"
      ],
      "metadata": {
        "trusted": true,
        "id": "OzSMgSrgsPwK"
      },
      "execution_count": null,
      "outputs": []
    },
    {
      "cell_type": "markdown",
      "source": [
        "# **Sentinent Analysis**"
      ],
      "metadata": {
        "id": "1PEXglT0sPwK"
      }
    },
    {
      "cell_type": "code",
      "source": [
        "# Load user_reviews.csv\n",
        "reviews_df = pd.read_csv('../input/android-app-market-on-google-play/datasets/user_reviews.csv')\n",
        "\n",
        "# Join and merge the two dataframe\n",
        "merged_df = pd.merge(apps, reviews_df, on = 'App', how = \"inner\")\n",
        "\n",
        "# Drop NA values from Sentiment and Translated_Review columns\n",
        "merged_df = merged_df.dropna(subset=['Sentiment', 'Translated_Review'])\n",
        "\n",
        "\n",
        "fig, ax = plt.subplots()\n",
        "fig.set_size_inches(11, 8)\n",
        "\n",
        "# User review sentiment polarity for paid vs. free apps\n",
        "ax = sns.boxplot(x = 'Type', y = 'Sentiment_Polarity', data = merged_df)\n",
        "ax.set_title('Sentiment Polarity Distribution')\n",
        "merged_df"
      ],
      "metadata": {
        "trusted": true,
        "id": "V5LeCYupsPwK"
      },
      "execution_count": null,
      "outputs": []
    }
  ]
}